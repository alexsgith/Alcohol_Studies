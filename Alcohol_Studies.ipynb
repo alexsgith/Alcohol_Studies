{
  "nbformat": 4,
  "nbformat_minor": 0,
  "metadata": {
    "colab": {
      "provenance": [],
      "collapsed_sections": [],
      "include_colab_link": true
    },
    "kernelspec": {
      "name": "python3",
      "display_name": "Python 3"
    },
    "language_info": {
      "name": "python"
    }
  },
  "cells": [
    {
      "cell_type": "markdown",
      "metadata": {
        "id": "view-in-github",
        "colab_type": "text"
      },
      "source": [
        "<a href=\"https://colab.research.google.com/github/alexsgith/Alcohol_Studies/blob/main/Alcohol_Studies.ipynb\" target=\"_parent\"><img src=\"https://colab.research.google.com/assets/colab-badge.svg\" alt=\"Open In Colab\"/></a>"
      ]
    },
    {
      "cell_type": "code",
      "source": [
        "#Alcohol_Studies\n",
        "#Team: Alex Savi(21MCAA03) & Steffie Sabu(21MCAA32)"
      ],
      "metadata": {
        "id": "6F1pGknxz8ld"
      },
      "execution_count": 38,
      "outputs": []
    },
    {
      "cell_type": "code",
      "execution_count": 39,
      "metadata": {
        "id": "wfJAMqghpPSa",
        "colab": {
          "base_uri": "https://localhost:8080/"
        },
        "outputId": "bfa2bfb3-cac2-4587-8025-d362f1e40322"
      },
      "outputs": [
        {
          "output_type": "stream",
          "name": "stdout",
          "text": [
            "    school sex  age address famsize Pstatus  Medu  Fedu      Mjob      Fjob  \\\n",
            "0       GP   F   18       U     GT3       A     4     4   at_home   teacher   \n",
            "1       GP   F   17       U     GT3       T     1     1   at_home     other   \n",
            "2       GP   F   15       U     LE3       T     1     1   at_home     other   \n",
            "3       GP   F   15       U     GT3       T     4     2    health  services   \n",
            "4       GP   F   16       U     GT3       T     3     3     other     other   \n",
            "..     ...  ..  ...     ...     ...     ...   ...   ...       ...       ...   \n",
            "644     MS   F   19       R     GT3       T     2     3  services     other   \n",
            "645     MS   F   18       U     LE3       T     3     1   teacher  services   \n",
            "646     MS   F   18       U     GT3       T     1     1     other     other   \n",
            "647     MS   M   17       U     LE3       T     3     1  services  services   \n",
            "648     MS   M   18       R     LE3       T     3     2  services     other   \n",
            "\n",
            "     ... famrel freetime  goout  Dalc  Walc health absences  G1  G2  G3  \n",
            "0    ...      4        3      4     1     1      3        4   0  11  11  \n",
            "1    ...      5        3      3     1     1      3        2   9  11  11  \n",
            "2    ...      4        3      2     2     3      3        6  12  13  12  \n",
            "3    ...      3        2      2     1     1      5        0  14  14  14  \n",
            "4    ...      4        3      2     1     2      5        0  11  13  13  \n",
            "..   ...    ...      ...    ...   ...   ...    ...      ...  ..  ..  ..  \n",
            "644  ...      5        4      2     1     2      5        4  10  11  10  \n",
            "645  ...      4        3      4     1     1      1        4  15  15  16  \n",
            "646  ...      1        1      1     1     1      5        6  11  12   9  \n",
            "647  ...      2        4      5     3     4      2        6  10  10  10  \n",
            "648  ...      4        4      1     3     4      5        4  10  11  11  \n",
            "\n",
            "[649 rows x 33 columns]\n"
          ]
        }
      ],
      "source": [
        "#0. Read Data\n",
        "import pandas as pd\n",
        "import numpy as np\n",
        "import matplotlib.pyplot as plt\n",
        "import seaborn as sns\n",
        "import plotly.express as px\n",
        "import missingno as msno #For missing value visualization\n",
        "from sklearn.model_selection import train_test_split\n",
        "from sklearn.preprocessing import StandardScaler,LabelEncoder\n",
        "data = pd.read_csv(\"Alcohol_Studies.csv\")\n",
        "print(data)"
      ]
    },
    {
      "cell_type": "code",
      "source": [
        "#1. PreProcessing or Data Cleaning - Diamentionality Reduction\n",
        "to_drop = ['famsize','nursery','higher', 'internet', 'romantic','traveltime','reason']\n",
        "data.drop(to_drop, inplace=True, axis=1)\n",
        "print(data)"
      ],
      "metadata": {
        "colab": {
          "base_uri": "https://localhost:8080/"
        },
        "id": "oT9qhPw_qRRq",
        "outputId": "b171b93d-94e8-4e87-9c50-bd0a1608f7a0"
      },
      "execution_count": 40,
      "outputs": [
        {
          "output_type": "stream",
          "name": "stdout",
          "text": [
            "    school sex  age address Pstatus  Medu  Fedu      Mjob      Fjob guardian  \\\n",
            "0       GP   F   18       U       A     4     4   at_home   teacher   mother   \n",
            "1       GP   F   17       U       T     1     1   at_home     other   father   \n",
            "2       GP   F   15       U       T     1     1   at_home     other   mother   \n",
            "3       GP   F   15       U       T     4     2    health  services   mother   \n",
            "4       GP   F   16       U       T     3     3     other     other   father   \n",
            "..     ...  ..  ...     ...     ...   ...   ...       ...       ...      ...   \n",
            "644     MS   F   19       R       T     2     3  services     other   mother   \n",
            "645     MS   F   18       U       T     3     1   teacher  services   mother   \n",
            "646     MS   F   18       U       T     1     1     other     other   mother   \n",
            "647     MS   M   17       U       T     3     1  services  services   mother   \n",
            "648     MS   M   18       R       T     3     2  services     other   mother   \n",
            "\n",
            "     ...  famrel  freetime goout Dalc Walc health  absences  G1  G2  G3  \n",
            "0    ...       4         3     4    1    1      3         4   0  11  11  \n",
            "1    ...       5         3     3    1    1      3         2   9  11  11  \n",
            "2    ...       4         3     2    2    3      3         6  12  13  12  \n",
            "3    ...       3         2     2    1    1      5         0  14  14  14  \n",
            "4    ...       4         3     2    1    2      5         0  11  13  13  \n",
            "..   ...     ...       ...   ...  ...  ...    ...       ...  ..  ..  ..  \n",
            "644  ...       5         4     2    1    2      5         4  10  11  10  \n",
            "645  ...       4         3     4    1    1      1         4  15  15  16  \n",
            "646  ...       1         1     1    1    1      5         6  11  12   9  \n",
            "647  ...       2         4     5    3    4      2         6  10  10  10  \n",
            "648  ...       4         4     1    3    4      5         4  10  11  11  \n",
            "\n",
            "[649 rows x 26 columns]\n"
          ]
        }
      ]
    },
    {
      "cell_type": "code",
      "source": [
        "for marks in range(min(data['G3']),max(data['G3'])):\n",
        "    count = sum([value>marks for value in data['G3']])\n",
        "    print(f'{marks} ----> {(count*100)/len(data)}')\n",
        "  \n",
        "temp = ['Above Average' if value>10 else 'Below Average' for value in data['G3']]\n",
        "data['GM'] = temp\n",
        "data['GM']\n"
      ],
      "metadata": {
        "colab": {
          "base_uri": "https://localhost:8080/"
        },
        "id": "KwUYcK6C_cF_",
        "outputId": "96608313-6564-4aba-b565-3c8e7fe1bd64"
      },
      "execution_count": 41,
      "outputs": [
        {
          "output_type": "stream",
          "name": "stdout",
          "text": [
            "0 ----> 97.68875192604006\n",
            "1 ----> 97.5346687211094\n",
            "2 ----> 97.5346687211094\n",
            "3 ----> 97.5346687211094\n",
            "4 ----> 97.5346687211094\n",
            "5 ----> 97.38058551617874\n",
            "6 ----> 96.91833590138675\n",
            "7 ----> 95.37750385208012\n",
            "8 ----> 89.98459167950693\n",
            "9 ----> 84.59167950693374\n",
            "10 ----> 69.64560862865947\n",
            "11 ----> 53.62095531587057\n",
            "12 ----> 42.526964560862865\n",
            "13 ----> 29.892141756548536\n",
            "14 ----> 20.184899845916796\n",
            "15 ----> 12.63482280431433\n",
            "16 ----> 7.0878274268104775\n",
            "17 ----> 2.6194144838212634\n",
            "18 ----> 0.3081664098613251\n"
          ]
        },
        {
          "output_type": "execute_result",
          "data": {
            "text/plain": [
              "0      Above Average\n",
              "1      Above Average\n",
              "2      Above Average\n",
              "3      Above Average\n",
              "4      Above Average\n",
              "           ...      \n",
              "644    Below Average\n",
              "645    Above Average\n",
              "646    Below Average\n",
              "647    Below Average\n",
              "648    Above Average\n",
              "Name: GM, Length: 649, dtype: object"
            ]
          },
          "metadata": {},
          "execution_count": 41
        }
      ]
    },
    {
      "cell_type": "code",
      "source": [
        "LabelEnc = LabelEncoder()\n",
        "categorical_features = data.select_dtypes(include = ['object']).columns\n",
        "for Feature in categorical_features:\n",
        "    data[Feature] = LabelEnc.fit_transform(data[Feature])\n",
        "data"
      ],
      "metadata": {
        "id": "KShP03okGYXN",
        "colab": {
          "base_uri": "https://localhost:8080/",
          "height": 483
        },
        "outputId": "5cd75e8d-97b6-408e-d737-7b37a5237f19"
      },
      "execution_count": 42,
      "outputs": [
        {
          "output_type": "execute_result",
          "data": {
            "text/plain": [
              "     school  sex  age  address  Pstatus  Medu  Fedu  Mjob  Fjob  guardian  \\\n",
              "0         0    0   18        1        0     4     4     0     4         1   \n",
              "1         0    0   17        1        1     1     1     0     2         0   \n",
              "2         0    0   15        1        1     1     1     0     2         1   \n",
              "3         0    0   15        1        1     4     2     1     3         1   \n",
              "4         0    0   16        1        1     3     3     2     2         0   \n",
              "..      ...  ...  ...      ...      ...   ...   ...   ...   ...       ...   \n",
              "644       1    0   19        0        1     2     3     3     2         1   \n",
              "645       1    0   18        1        1     3     1     4     3         1   \n",
              "646       1    0   18        1        1     1     1     2     2         1   \n",
              "647       1    1   17        1        1     3     1     3     3         1   \n",
              "648       1    1   18        0        1     3     2     3     2         1   \n",
              "\n",
              "     ...  freetime  goout  Dalc  Walc  health  absences  G1  G2  G3  GM  \n",
              "0    ...         3      4     1     1       3         4   0  11  11   0  \n",
              "1    ...         3      3     1     1       3         2   9  11  11   0  \n",
              "2    ...         3      2     2     3       3         6  12  13  12   0  \n",
              "3    ...         2      2     1     1       5         0  14  14  14   0  \n",
              "4    ...         3      2     1     2       5         0  11  13  13   0  \n",
              "..   ...       ...    ...   ...   ...     ...       ...  ..  ..  ..  ..  \n",
              "644  ...         4      2     1     2       5         4  10  11  10   1  \n",
              "645  ...         3      4     1     1       1         4  15  15  16   0  \n",
              "646  ...         1      1     1     1       5         6  11  12   9   1  \n",
              "647  ...         4      5     3     4       2         6  10  10  10   1  \n",
              "648  ...         4      1     3     4       5         4  10  11  11   0  \n",
              "\n",
              "[649 rows x 27 columns]"
            ],
            "text/html": [
              "\n",
              "  <div id=\"df-4cd13820-f98a-413c-9504-1dc77f73fe6c\">\n",
              "    <div class=\"colab-df-container\">\n",
              "      <div>\n",
              "<style scoped>\n",
              "    .dataframe tbody tr th:only-of-type {\n",
              "        vertical-align: middle;\n",
              "    }\n",
              "\n",
              "    .dataframe tbody tr th {\n",
              "        vertical-align: top;\n",
              "    }\n",
              "\n",
              "    .dataframe thead th {\n",
              "        text-align: right;\n",
              "    }\n",
              "</style>\n",
              "<table border=\"1\" class=\"dataframe\">\n",
              "  <thead>\n",
              "    <tr style=\"text-align: right;\">\n",
              "      <th></th>\n",
              "      <th>school</th>\n",
              "      <th>sex</th>\n",
              "      <th>age</th>\n",
              "      <th>address</th>\n",
              "      <th>Pstatus</th>\n",
              "      <th>Medu</th>\n",
              "      <th>Fedu</th>\n",
              "      <th>Mjob</th>\n",
              "      <th>Fjob</th>\n",
              "      <th>guardian</th>\n",
              "      <th>...</th>\n",
              "      <th>freetime</th>\n",
              "      <th>goout</th>\n",
              "      <th>Dalc</th>\n",
              "      <th>Walc</th>\n",
              "      <th>health</th>\n",
              "      <th>absences</th>\n",
              "      <th>G1</th>\n",
              "      <th>G2</th>\n",
              "      <th>G3</th>\n",
              "      <th>GM</th>\n",
              "    </tr>\n",
              "  </thead>\n",
              "  <tbody>\n",
              "    <tr>\n",
              "      <th>0</th>\n",
              "      <td>0</td>\n",
              "      <td>0</td>\n",
              "      <td>18</td>\n",
              "      <td>1</td>\n",
              "      <td>0</td>\n",
              "      <td>4</td>\n",
              "      <td>4</td>\n",
              "      <td>0</td>\n",
              "      <td>4</td>\n",
              "      <td>1</td>\n",
              "      <td>...</td>\n",
              "      <td>3</td>\n",
              "      <td>4</td>\n",
              "      <td>1</td>\n",
              "      <td>1</td>\n",
              "      <td>3</td>\n",
              "      <td>4</td>\n",
              "      <td>0</td>\n",
              "      <td>11</td>\n",
              "      <td>11</td>\n",
              "      <td>0</td>\n",
              "    </tr>\n",
              "    <tr>\n",
              "      <th>1</th>\n",
              "      <td>0</td>\n",
              "      <td>0</td>\n",
              "      <td>17</td>\n",
              "      <td>1</td>\n",
              "      <td>1</td>\n",
              "      <td>1</td>\n",
              "      <td>1</td>\n",
              "      <td>0</td>\n",
              "      <td>2</td>\n",
              "      <td>0</td>\n",
              "      <td>...</td>\n",
              "      <td>3</td>\n",
              "      <td>3</td>\n",
              "      <td>1</td>\n",
              "      <td>1</td>\n",
              "      <td>3</td>\n",
              "      <td>2</td>\n",
              "      <td>9</td>\n",
              "      <td>11</td>\n",
              "      <td>11</td>\n",
              "      <td>0</td>\n",
              "    </tr>\n",
              "    <tr>\n",
              "      <th>2</th>\n",
              "      <td>0</td>\n",
              "      <td>0</td>\n",
              "      <td>15</td>\n",
              "      <td>1</td>\n",
              "      <td>1</td>\n",
              "      <td>1</td>\n",
              "      <td>1</td>\n",
              "      <td>0</td>\n",
              "      <td>2</td>\n",
              "      <td>1</td>\n",
              "      <td>...</td>\n",
              "      <td>3</td>\n",
              "      <td>2</td>\n",
              "      <td>2</td>\n",
              "      <td>3</td>\n",
              "      <td>3</td>\n",
              "      <td>6</td>\n",
              "      <td>12</td>\n",
              "      <td>13</td>\n",
              "      <td>12</td>\n",
              "      <td>0</td>\n",
              "    </tr>\n",
              "    <tr>\n",
              "      <th>3</th>\n",
              "      <td>0</td>\n",
              "      <td>0</td>\n",
              "      <td>15</td>\n",
              "      <td>1</td>\n",
              "      <td>1</td>\n",
              "      <td>4</td>\n",
              "      <td>2</td>\n",
              "      <td>1</td>\n",
              "      <td>3</td>\n",
              "      <td>1</td>\n",
              "      <td>...</td>\n",
              "      <td>2</td>\n",
              "      <td>2</td>\n",
              "      <td>1</td>\n",
              "      <td>1</td>\n",
              "      <td>5</td>\n",
              "      <td>0</td>\n",
              "      <td>14</td>\n",
              "      <td>14</td>\n",
              "      <td>14</td>\n",
              "      <td>0</td>\n",
              "    </tr>\n",
              "    <tr>\n",
              "      <th>4</th>\n",
              "      <td>0</td>\n",
              "      <td>0</td>\n",
              "      <td>16</td>\n",
              "      <td>1</td>\n",
              "      <td>1</td>\n",
              "      <td>3</td>\n",
              "      <td>3</td>\n",
              "      <td>2</td>\n",
              "      <td>2</td>\n",
              "      <td>0</td>\n",
              "      <td>...</td>\n",
              "      <td>3</td>\n",
              "      <td>2</td>\n",
              "      <td>1</td>\n",
              "      <td>2</td>\n",
              "      <td>5</td>\n",
              "      <td>0</td>\n",
              "      <td>11</td>\n",
              "      <td>13</td>\n",
              "      <td>13</td>\n",
              "      <td>0</td>\n",
              "    </tr>\n",
              "    <tr>\n",
              "      <th>...</th>\n",
              "      <td>...</td>\n",
              "      <td>...</td>\n",
              "      <td>...</td>\n",
              "      <td>...</td>\n",
              "      <td>...</td>\n",
              "      <td>...</td>\n",
              "      <td>...</td>\n",
              "      <td>...</td>\n",
              "      <td>...</td>\n",
              "      <td>...</td>\n",
              "      <td>...</td>\n",
              "      <td>...</td>\n",
              "      <td>...</td>\n",
              "      <td>...</td>\n",
              "      <td>...</td>\n",
              "      <td>...</td>\n",
              "      <td>...</td>\n",
              "      <td>...</td>\n",
              "      <td>...</td>\n",
              "      <td>...</td>\n",
              "      <td>...</td>\n",
              "    </tr>\n",
              "    <tr>\n",
              "      <th>644</th>\n",
              "      <td>1</td>\n",
              "      <td>0</td>\n",
              "      <td>19</td>\n",
              "      <td>0</td>\n",
              "      <td>1</td>\n",
              "      <td>2</td>\n",
              "      <td>3</td>\n",
              "      <td>3</td>\n",
              "      <td>2</td>\n",
              "      <td>1</td>\n",
              "      <td>...</td>\n",
              "      <td>4</td>\n",
              "      <td>2</td>\n",
              "      <td>1</td>\n",
              "      <td>2</td>\n",
              "      <td>5</td>\n",
              "      <td>4</td>\n",
              "      <td>10</td>\n",
              "      <td>11</td>\n",
              "      <td>10</td>\n",
              "      <td>1</td>\n",
              "    </tr>\n",
              "    <tr>\n",
              "      <th>645</th>\n",
              "      <td>1</td>\n",
              "      <td>0</td>\n",
              "      <td>18</td>\n",
              "      <td>1</td>\n",
              "      <td>1</td>\n",
              "      <td>3</td>\n",
              "      <td>1</td>\n",
              "      <td>4</td>\n",
              "      <td>3</td>\n",
              "      <td>1</td>\n",
              "      <td>...</td>\n",
              "      <td>3</td>\n",
              "      <td>4</td>\n",
              "      <td>1</td>\n",
              "      <td>1</td>\n",
              "      <td>1</td>\n",
              "      <td>4</td>\n",
              "      <td>15</td>\n",
              "      <td>15</td>\n",
              "      <td>16</td>\n",
              "      <td>0</td>\n",
              "    </tr>\n",
              "    <tr>\n",
              "      <th>646</th>\n",
              "      <td>1</td>\n",
              "      <td>0</td>\n",
              "      <td>18</td>\n",
              "      <td>1</td>\n",
              "      <td>1</td>\n",
              "      <td>1</td>\n",
              "      <td>1</td>\n",
              "      <td>2</td>\n",
              "      <td>2</td>\n",
              "      <td>1</td>\n",
              "      <td>...</td>\n",
              "      <td>1</td>\n",
              "      <td>1</td>\n",
              "      <td>1</td>\n",
              "      <td>1</td>\n",
              "      <td>5</td>\n",
              "      <td>6</td>\n",
              "      <td>11</td>\n",
              "      <td>12</td>\n",
              "      <td>9</td>\n",
              "      <td>1</td>\n",
              "    </tr>\n",
              "    <tr>\n",
              "      <th>647</th>\n",
              "      <td>1</td>\n",
              "      <td>1</td>\n",
              "      <td>17</td>\n",
              "      <td>1</td>\n",
              "      <td>1</td>\n",
              "      <td>3</td>\n",
              "      <td>1</td>\n",
              "      <td>3</td>\n",
              "      <td>3</td>\n",
              "      <td>1</td>\n",
              "      <td>...</td>\n",
              "      <td>4</td>\n",
              "      <td>5</td>\n",
              "      <td>3</td>\n",
              "      <td>4</td>\n",
              "      <td>2</td>\n",
              "      <td>6</td>\n",
              "      <td>10</td>\n",
              "      <td>10</td>\n",
              "      <td>10</td>\n",
              "      <td>1</td>\n",
              "    </tr>\n",
              "    <tr>\n",
              "      <th>648</th>\n",
              "      <td>1</td>\n",
              "      <td>1</td>\n",
              "      <td>18</td>\n",
              "      <td>0</td>\n",
              "      <td>1</td>\n",
              "      <td>3</td>\n",
              "      <td>2</td>\n",
              "      <td>3</td>\n",
              "      <td>2</td>\n",
              "      <td>1</td>\n",
              "      <td>...</td>\n",
              "      <td>4</td>\n",
              "      <td>1</td>\n",
              "      <td>3</td>\n",
              "      <td>4</td>\n",
              "      <td>5</td>\n",
              "      <td>4</td>\n",
              "      <td>10</td>\n",
              "      <td>11</td>\n",
              "      <td>11</td>\n",
              "      <td>0</td>\n",
              "    </tr>\n",
              "  </tbody>\n",
              "</table>\n",
              "<p>649 rows × 27 columns</p>\n",
              "</div>\n",
              "      <button class=\"colab-df-convert\" onclick=\"convertToInteractive('df-4cd13820-f98a-413c-9504-1dc77f73fe6c')\"\n",
              "              title=\"Convert this dataframe to an interactive table.\"\n",
              "              style=\"display:none;\">\n",
              "        \n",
              "  <svg xmlns=\"http://www.w3.org/2000/svg\" height=\"24px\"viewBox=\"0 0 24 24\"\n",
              "       width=\"24px\">\n",
              "    <path d=\"M0 0h24v24H0V0z\" fill=\"none\"/>\n",
              "    <path d=\"M18.56 5.44l.94 2.06.94-2.06 2.06-.94-2.06-.94-.94-2.06-.94 2.06-2.06.94zm-11 1L8.5 8.5l.94-2.06 2.06-.94-2.06-.94L8.5 2.5l-.94 2.06-2.06.94zm10 10l.94 2.06.94-2.06 2.06-.94-2.06-.94-.94-2.06-.94 2.06-2.06.94z\"/><path d=\"M17.41 7.96l-1.37-1.37c-.4-.4-.92-.59-1.43-.59-.52 0-1.04.2-1.43.59L10.3 9.45l-7.72 7.72c-.78.78-.78 2.05 0 2.83L4 21.41c.39.39.9.59 1.41.59.51 0 1.02-.2 1.41-.59l7.78-7.78 2.81-2.81c.8-.78.8-2.07 0-2.86zM5.41 20L4 18.59l7.72-7.72 1.47 1.35L5.41 20z\"/>\n",
              "  </svg>\n",
              "      </button>\n",
              "      \n",
              "  <style>\n",
              "    .colab-df-container {\n",
              "      display:flex;\n",
              "      flex-wrap:wrap;\n",
              "      gap: 12px;\n",
              "    }\n",
              "\n",
              "    .colab-df-convert {\n",
              "      background-color: #E8F0FE;\n",
              "      border: none;\n",
              "      border-radius: 50%;\n",
              "      cursor: pointer;\n",
              "      display: none;\n",
              "      fill: #1967D2;\n",
              "      height: 32px;\n",
              "      padding: 0 0 0 0;\n",
              "      width: 32px;\n",
              "    }\n",
              "\n",
              "    .colab-df-convert:hover {\n",
              "      background-color: #E2EBFA;\n",
              "      box-shadow: 0px 1px 2px rgba(60, 64, 67, 0.3), 0px 1px 3px 1px rgba(60, 64, 67, 0.15);\n",
              "      fill: #174EA6;\n",
              "    }\n",
              "\n",
              "    [theme=dark] .colab-df-convert {\n",
              "      background-color: #3B4455;\n",
              "      fill: #D2E3FC;\n",
              "    }\n",
              "\n",
              "    [theme=dark] .colab-df-convert:hover {\n",
              "      background-color: #434B5C;\n",
              "      box-shadow: 0px 1px 3px 1px rgba(0, 0, 0, 0.15);\n",
              "      filter: drop-shadow(0px 1px 2px rgba(0, 0, 0, 0.3));\n",
              "      fill: #FFFFFF;\n",
              "    }\n",
              "  </style>\n",
              "\n",
              "      <script>\n",
              "        const buttonEl =\n",
              "          document.querySelector('#df-4cd13820-f98a-413c-9504-1dc77f73fe6c button.colab-df-convert');\n",
              "        buttonEl.style.display =\n",
              "          google.colab.kernel.accessAllowed ? 'block' : 'none';\n",
              "\n",
              "        async function convertToInteractive(key) {\n",
              "          const element = document.querySelector('#df-4cd13820-f98a-413c-9504-1dc77f73fe6c');\n",
              "          const dataTable =\n",
              "            await google.colab.kernel.invokeFunction('convertToInteractive',\n",
              "                                                     [key], {});\n",
              "          if (!dataTable) return;\n",
              "\n",
              "          const docLinkHtml = 'Like what you see? Visit the ' +\n",
              "            '<a target=\"_blank\" href=https://colab.research.google.com/notebooks/data_table.ipynb>data table notebook</a>'\n",
              "            + ' to learn more about interactive tables.';\n",
              "          element.innerHTML = '';\n",
              "          dataTable['output_type'] = 'display_data';\n",
              "          await google.colab.output.renderOutput(dataTable, element);\n",
              "          const docLink = document.createElement('div');\n",
              "          docLink.innerHTML = docLinkHtml;\n",
              "          element.appendChild(docLink);\n",
              "        }\n",
              "      </script>\n",
              "    </div>\n",
              "  </div>\n",
              "  "
            ]
          },
          "metadata": {},
          "execution_count": 42
        }
      ]
    },
    {
      "cell_type": "code",
      "source": [
        "feature_cols=['age','Medu','Fedu','studytime','failures','famrel','freetime','goout','Dalc','Walc','health','absences']\n",
        "x=data[feature_cols] \n",
        "y=data['GM'] #target variable\n",
        "print(x)\n",
        "print(y)\n",
        "\n",
        "from sklearn.model_selection import train_test_split\n",
        "x_train,x_test,y_train,y_test=train_test_split(x,y,test_size=0.1,random_state=1)\n",
        "print(x_train)\n",
        "print(x_test)\n",
        "print(y_train)\n",
        "print(y_test)\n"
      ],
      "metadata": {
        "colab": {
          "base_uri": "https://localhost:8080/"
        },
        "id": "S47IxSFBL_k4",
        "outputId": "738eaa3e-2af4-4274-b3f5-43c1628d481f"
      },
      "execution_count": 43,
      "outputs": [
        {
          "output_type": "stream",
          "name": "stdout",
          "text": [
            "     age  Medu  Fedu  studytime  failures  famrel  freetime  goout  Dalc  \\\n",
            "0     18     4     4          2         0       4         3      4     1   \n",
            "1     17     1     1          2         0       5         3      3     1   \n",
            "2     15     1     1          2         0       4         3      2     2   \n",
            "3     15     4     2          3         0       3         2      2     1   \n",
            "4     16     3     3          2         0       4         3      2     1   \n",
            "..   ...   ...   ...        ...       ...     ...       ...    ...   ...   \n",
            "644   19     2     3          3         1       5         4      2     1   \n",
            "645   18     3     1          2         0       4         3      4     1   \n",
            "646   18     1     1          2         0       1         1      1     1   \n",
            "647   17     3     1          1         0       2         4      5     3   \n",
            "648   18     3     2          1         0       4         4      1     3   \n",
            "\n",
            "     Walc  health  absences  \n",
            "0       1       3         4  \n",
            "1       1       3         2  \n",
            "2       3       3         6  \n",
            "3       1       5         0  \n",
            "4       2       5         0  \n",
            "..    ...     ...       ...  \n",
            "644     2       5         4  \n",
            "645     1       1         4  \n",
            "646     1       5         6  \n",
            "647     4       2         6  \n",
            "648     4       5         4  \n",
            "\n",
            "[649 rows x 12 columns]\n",
            "0      0\n",
            "1      0\n",
            "2      0\n",
            "3      0\n",
            "4      0\n",
            "      ..\n",
            "644    1\n",
            "645    0\n",
            "646    1\n",
            "647    1\n",
            "648    0\n",
            "Name: GM, Length: 649, dtype: int64\n",
            "     age  Medu  Fedu  studytime  failures  famrel  freetime  goout  Dalc  \\\n",
            "34    16     3     2          1         0       5         4      3     1   \n",
            "345   18     4     4          2         0       4         2      4     1   \n",
            "617   18     1     1          3         0       5         3      2     1   \n",
            "444   16     3     4          2         0       3         4      5     1   \n",
            "340   17     3     3          1         0       4         4      3     1   \n",
            "..   ...   ...   ...        ...       ...     ...       ...    ...   ...   \n",
            "144   16     1     1          1         0       3         3      3     1   \n",
            "645   18     3     1          2         0       4         3      4     1   \n",
            "72    15     1     1          2         0       3         3      4     2   \n",
            "235   17     1     1          3         0       4         3      4     1   \n",
            "37    16     4     4          3         0       2         4      3     1   \n",
            "\n",
            "     Walc  health  absences  \n",
            "34      1       5         4  \n",
            "345     1       4         0  \n",
            "617     1       4         0  \n",
            "444     2       5         4  \n",
            "340     3       5         0  \n",
            "..    ...     ...       ...  \n",
            "144     2       1         8  \n",
            "645     1       1         4  \n",
            "72      4       5         2  \n",
            "235     1       5        12  \n",
            "37      1       5         4  \n",
            "\n",
            "[584 rows x 12 columns]\n",
            "     age  Medu  Fedu  studytime  failures  famrel  freetime  goout  Dalc  \\\n",
            "440   16     1     1          2         0       5         4      5     4   \n",
            "242   18     2     1          2         0       4         3      2     4   \n",
            "465   18     1     2          2         1       3         4      4     2   \n",
            "347   17     4     4          3         0       5         3      4     1   \n",
            "474   15     1     3          1         0       4         2      4     3   \n",
            "..   ...   ...   ...        ...       ...     ...       ...    ...   ...   \n",
            "565   16     1     1          1         0       4         5      5     2   \n",
            "545   17     3     4          2         1       5         4      4     3   \n",
            "359   17     3     4          3         0       4         3      4     2   \n",
            "568   19     3     2          1         3       3         2      1     1   \n",
            "181   16     4     2          2         0       4         2      3     1   \n",
            "\n",
            "     Walc  health  absences  \n",
            "440     5       3         0  \n",
            "242     5       3         2  \n",
            "465     3       5         9  \n",
            "347     1       5         0  \n",
            "474     5       3         2  \n",
            "..    ...     ...       ...  \n",
            "565     4       5         0  \n",
            "545     4       5         8  \n",
            "359     5       5         2  \n",
            "568     1       3         4  \n",
            "181     1       3         0  \n",
            "\n",
            "[65 rows x 12 columns]\n",
            "34     0\n",
            "345    0\n",
            "617    0\n",
            "444    0\n",
            "340    0\n",
            "      ..\n",
            "144    0\n",
            "645    0\n",
            "72     0\n",
            "235    0\n",
            "37     0\n",
            "Name: GM, Length: 584, dtype: int64\n",
            "440    1\n",
            "242    0\n",
            "465    1\n",
            "347    1\n",
            "474    0\n",
            "      ..\n",
            "565    1\n",
            "545    1\n",
            "359    0\n",
            "568    1\n",
            "181    0\n",
            "Name: GM, Length: 65, dtype: int64\n"
          ]
        }
      ]
    },
    {
      "cell_type": "code",
      "source": [
        "\n",
        "from sklearn.tree import DecisionTreeClassifier\n",
        "clf= DecisionTreeClassifier(criterion=\"entropy\", max_depth=2)\n",
        "clf= clf.fit(x_train,y_train)\n",
        "y_pred=clf.predict(x_test)\n",
        "from sklearn import metrics\n",
        "acc=metrics.accuracy_score(y_test,y_pred)*100\n",
        "pre=metrics.precision_score(y_test,y_pred)*100\n",
        "rec=metrics.recall_score(y_test,y_pred)*100\n",
        "f1=metrics.f1_score(y_test,y_pred)*100\n",
        "print(\"Accuracy: \",acc)\n",
        "print(\"Precision: \",pre)\n",
        "print(\"Recall: \",rec)\n",
        "print(\"F1: \",f1)\n"
      ],
      "metadata": {
        "id": "_xqwdXvTNFe4",
        "colab": {
          "base_uri": "https://localhost:8080/"
        },
        "outputId": "4ded9c8c-e939-43a9-8ecb-ac850d351f08"
      },
      "execution_count": 44,
      "outputs": [
        {
          "output_type": "stream",
          "name": "stdout",
          "text": [
            "Accuracy:  73.84615384615385\n",
            "Precision:  100.0\n",
            "Recall:  26.08695652173913\n",
            "F1:  41.37931034482759\n"
          ]
        }
      ]
    },
    {
      "cell_type": "code",
      "source": [
        "#visialize the model (Tree)\n",
        "from sklearn import tree\n",
        "tree.plot_tree(clf)"
      ],
      "metadata": {
        "colab": {
          "base_uri": "https://localhost:8080/",
          "height": 367
        },
        "id": "IXSS2MwwLqLU",
        "outputId": "12880c19-ab94-4959-9c97-a4042b6e03bc"
      },
      "execution_count": 45,
      "outputs": [
        {
          "output_type": "execute_result",
          "data": {
            "text/plain": [
              "[Text(0.5, 0.8333333333333334, 'X[4] <= 0.5\\nentropy = 0.879\\nsamples = 584\\nvalue = [410, 174]'),\n",
              " Text(0.25, 0.5, 'X[3] <= 1.5\\nentropy = 0.726\\nsamples = 490\\nvalue = [391, 99]'),\n",
              " Text(0.125, 0.16666666666666666, 'entropy = 0.873\\nsamples = 150\\nvalue = [106, 44]'),\n",
              " Text(0.375, 0.16666666666666666, 'entropy = 0.639\\nsamples = 340\\nvalue = [285, 55]'),\n",
              " Text(0.75, 0.5, 'X[1] <= 3.5\\nentropy = 0.726\\nsamples = 94\\nvalue = [19, 75]'),\n",
              " Text(0.625, 0.16666666666666666, 'entropy = 0.637\\nsamples = 87\\nvalue = [14, 73]'),\n",
              " Text(0.875, 0.16666666666666666, 'entropy = 0.863\\nsamples = 7\\nvalue = [5, 2]')]"
            ]
          },
          "metadata": {},
          "execution_count": 45
        },
        {
          "output_type": "display_data",
          "data": {
            "text/plain": [
              "<Figure size 432x288 with 1 Axes>"
            ],
            "image/png": "[encoded data removed]"
          },
          "metadata": {
            "needs_background": "light"
          }
        }
      ]
    },
    {
      "cell_type": "code",
      "source": [
        "from sklearn.neural_network import MLPClassifier\n",
        "clf = MLPClassifier(hidden_layer_sizes=(10, 10, 10), max_iter=100)\n",
        "\n",
        "clf= clf.fit(x_train,y_train)\n",
        "y_pred=clf.predict(x_test)\n",
        "from sklearn import metrics\n",
        "acc=metrics.accuracy_score(y_test,y_pred)*100\n",
        "pre=metrics.precision_score(y_test,y_pred)*100\n",
        "rec=metrics.recall_score(y_test,y_pred)*100\n",
        "f1=metrics.f1_score(y_test,y_pred)*100\n",
        "\n",
        "print(\"Accuracy: \",acc)\n",
        "print(\"Precision: \",pre)\n",
        "print(\"Recall: \",rec)\n",
        "print(\"F1: \",f1)\n"
      ],
      "metadata": {
        "id": "_jijv4TQHFyU",
        "colab": {
          "base_uri": "https://localhost:8080/"
        },
        "outputId": "37c7fda2-f57f-4450-8912-1e4729536f9a"
      },
      "execution_count": 46,
      "outputs": [
        {
          "output_type": "stream",
          "name": "stdout",
          "text": [
            "Accuracy:  75.38461538461539\n",
            "Precision:  88.88888888888889\n",
            "Recall:  34.78260869565217\n",
            "F1:  50.0\n"
          ]
        },
        {
          "output_type": "stream",
          "name": "stderr",
          "text": [
            "/usr/local/lib/python3.7/dist-packages/sklearn/neural_network/_multilayer_perceptron.py:696: ConvergenceWarning: Stochastic Optimizer: Maximum iterations (100) reached and the optimization hasn't converged yet.\n",
            "  ConvergenceWarning,\n"
          ]
        }
      ]
    },
    {
      "cell_type": "code",
      "source": [
        "from sklearn.naive_bayes import GaussianNB\n",
        "clf=GaussianNB()\n",
        "clf= clf.fit(x_train,y_train)\n",
        "y_pred=clf.predict(x_test)\n",
        "from sklearn import metrics\n",
        "acc=metrics.accuracy_score(y_test,y_pred)*100\n",
        "pre=metrics.precision_score(y_test,y_pred)*100\n",
        "rec=metrics.recall_score(y_test,y_pred)*100\n",
        "f1=metrics.f1_score(y_test,y_pred)*100\n",
        "\n",
        "print(\"Accuracy: \",acc)\n",
        "print(\"Precision: \",pre)\n",
        "print(\"Recall: \",rec)\n",
        "print(\"F1: \",f1)\n"
      ],
      "metadata": {
        "colab": {
          "base_uri": "https://localhost:8080/"
        },
        "id": "JZ0iCI4EJ0TM",
        "outputId": "f4a9384c-6928-494a-fb62-145b6b1f61f2"
      },
      "execution_count": 47,
      "outputs": [
        {
          "output_type": "stream",
          "name": "stdout",
          "text": [
            "Accuracy:  70.76923076923077\n",
            "Precision:  66.66666666666666\n",
            "Recall:  34.78260869565217\n",
            "F1:  45.71428571428571\n"
          ]
        }
      ]
    },
    {
      "cell_type": "code",
      "source": [
        "plt.bar(data.age, (data.G1+data.G1+data.G1) , color ='maroon',width = 0.9)\n",
        "plt.title(\"Age Vs Grade\")\n",
        "plt.xlabel(\"Age\")\n",
        "plt.ylabel(\"Grade\")"
      ],
      "metadata": {
        "colab": {
          "base_uri": "https://localhost:8080/",
          "height": 312
        },
        "id": "akrCXztyeNX-",
        "outputId": "3afe3fe5-3d6f-4f57-cacf-7cac3bd1a97e"
      },
      "execution_count": 48,
      "outputs": [
        {
          "output_type": "execute_result",
          "data": {
            "text/plain": [
              "Text(0, 0.5, 'Grade')"
            ]
          },
          "metadata": {},
          "execution_count": 48
        },
        {
          "output_type": "display_data",
          "data": {
            "text/plain": [
              "<Figure size 432x288 with 1 Axes>"
            ],
            "image/png": "[encoded data removed]"
          },
          "metadata": {
            "needs_background": "light"
          }
        }
      ]
    },
    {
      "cell_type": "code",
      "source": [
        "import seaborn as sns\n",
        "sns.scatterplot(x=(data[\"G1\"]+data[\"G2\"]+data[\"G3\"]), y=data[\"absences\"])"
      ],
      "metadata": {
        "colab": {
          "base_uri": "https://localhost:8080/",
          "height": 282
        },
        "id": "xvG_cl1Rk76Q",
        "outputId": "183f4c15-bcfe-4ee8-b043-bfc8f72c97a4"
      },
      "execution_count": 49,
      "outputs": [
        {
          "output_type": "execute_result",
          "data": {
            "text/plain": [
              "<matplotlib.axes._subplots.AxesSubplot at 0x7f873ea12f50>"
            ]
          },
          "metadata": {},
          "execution_count": 49
        },
        {
          "output_type": "display_data",
          "data": {
            "text/plain": [
              "<Figure size 432x288 with 1 Axes>"
            ],
            "image/png": "[encoded data removed]"
          },
          "metadata": {
            "needs_background": "light"
          }
        }
      ]
    },
    {
      "cell_type": "code",
      "source": [
        "fig, (ax1, ax2) = plt.subplots(ncols=2, figsize=(10, 5))\n",
        "data.groupby('sex').size().plot(kind='pie', autopct='%.2f',colors=['pink', 'skyblue'],ax=ax1)\n",
        "data.groupby('famsup').size().plot(kind='pie', autopct='%.2f',colors=['orange', 'lightgreen'],ax=ax2)\n",
        "ax1.set_ylabel('Gender Base')\n",
        "ax1.set_title('Male(M) Vs Female(F)')\n",
        "ax2.set_ylabel('Family Support')\n",
        "ax2.set_title('Students Supported by family')\n",
        "plt.tight_layout()"
      ],
      "metadata": {
        "colab": {
          "base_uri": "https://localhost:8080/",
          "height": 377
        },
        "id": "adODcbKlnxPt",
        "outputId": "aaa6e512-61b1-42c9-e075-e78a57eefc0b"
      },
      "execution_count": 50,
      "outputs": [
        {
          "output_type": "display_data",
          "data": {
            "text/plain": [
              "<Figure size 720x360 with 2 Axes>"
            ],
            "image/png": "[encoded data removed]"
          },
          "metadata": {}
        }
      ]
    },
    {
      "cell_type": "code",
      "source": [
        "import numpy as np\n",
        "import matplotlib.pyplot as plt\n",
        "X = ['Accuracy','Precision','Recall','F1']\n",
        "DT = [73.84, 100, 26.08, 41.37]\n",
        "NB = [70.76, 66.66, 34.78, 45.71]\n",
        "ANN = [75.38, 88.88, 34.78, 50]\n",
        "  \n",
        "X_axis = np.arange(len(X))\n",
        "  \n",
        "plt.bar(X_axis + 0.00, DT, width = 0.25, label = 'DecisionTree')\n",
        "plt.bar(X_axis + 0.25, NB, width = 0.25, label = 'Naive Bayes')\n",
        "plt.bar(X_axis + 0.50, ANN, width = 0.25, label = 'Artificial Neural Network')\n",
        "  \n",
        "plt.xticks(X_axis, X)\n",
        "plt.title(\"Comparison between DT, NB, ANN\")\n",
        "plt.legend()\n",
        "plt.show()"
      ],
      "metadata": {
        "colab": {
          "base_uri": "https://localhost:8080/",
          "height": 281
        },
        "id": "kKBk95T3S3e3",
        "outputId": "033aeaf2-75aa-4b1e-cba9-445cad4c9e72"
      },
      "execution_count": 68,
      "outputs": [
        {
          "output_type": "display_data",
          "data": {
            "text/plain": [
              "<Figure size 432x288 with 1 Axes>"
            ],
            "image/png": "[encoded data removed]"
          },
          "metadata": {
            "needs_background": "light"
          }
        }
      ]
    }
  ]
}